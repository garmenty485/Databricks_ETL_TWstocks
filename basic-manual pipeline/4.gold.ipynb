{
 "cells": [
  {
   "cell_type": "markdown",
   "metadata": {
    "application/vnd.databricks.v1+cell": {
     "cellMetadata": {},
     "inputWidgets": {},
     "nuid": "07b57c4d-c389-4404-b394-c09a38a1239e",
     "showTitle": false,
     "tableResultSettingsMap": {},
     "title": ""
    }
   },
   "source": [
    "## Check the tables we need exist."
   ]
  },
  {
   "cell_type": "code",
   "execution_count": 0,
   "metadata": {
    "application/vnd.databricks.v1+cell": {
     "cellMetadata": {
      "byteLimit": 2048000,
      "implicitDf": true,
      "rowLimit": 10000
     },
     "inputWidgets": {},
     "nuid": "37fa34dc-b2b8-4aa5-ad97-fb9c3664cbc1",
     "showTitle": false,
     "tableResultSettingsMap": {},
     "title": ""
    }
   },
   "outputs": [],
   "source": [
    "%sql\n",
    "SELECT * FROM kenworkspace.tw_stocks_db.silver_daily"
   ]
  },
  {
   "cell_type": "code",
   "execution_count": 0,
   "metadata": {
    "application/vnd.databricks.v1+cell": {
     "cellMetadata": {
      "byteLimit": 2048000,
      "implicitDf": true,
      "rowLimit": 10000
     },
     "inputWidgets": {},
     "nuid": "b7f218a4-cd09-40f6-a111-200e249f4634",
     "showTitle": false,
     "tableResultSettingsMap": {},
     "title": ""
    }
   },
   "outputs": [],
   "source": [
    "%sql\n",
    "SELECT * FROM kenworkspace.tw_stocks_db.silver_mvrh_monthly"
   ]
  },
  {
   "cell_type": "markdown",
   "metadata": {
    "application/vnd.databricks.v1+cell": {
     "cellMetadata": {},
     "inputWidgets": {},
     "nuid": "c4c6aa89-9b6c-4239-9ede-fe37f7db707b",
     "showTitle": false,
     "tableResultSettingsMap": {},
     "title": ""
    }
   },
   "source": [
    "## Main part: final gold table for future ML."
   ]
  },
  {
   "cell_type": "code",
   "execution_count": 0,
   "metadata": {
    "application/vnd.databricks.v1+cell": {
     "cellMetadata": {
      "byteLimit": 2048000,
      "implicitDf": true,
      "rowLimit": 10000
     },
     "inputWidgets": {},
     "nuid": "bebdea13-a086-4293-bfbf-4c5a2e2f99ac",
     "showTitle": false,
     "tableResultSettingsMap": {
      "0": {
       "dataGridStateBlob": "{\"version\":1,\"tableState\":{\"columnPinning\":{\"left\":[\"#row_number#\"],\"right\":[]},\"columnSizing\":{},\"columnVisibility\":{}},\"settings\":{\"columns\":{}},\"syncTimestamp\":1753352690584}",
       "filterBlob": null,
       "queryPlanFiltersBlob": null,
       "tableResultIndex": 0
      }
     },
     "title": ""
    }
   },
   "outputs": [],
   "source": [
    "%sql\n",
    "CREATE OR REPLACE TABLE kenworkspace.tw_stocks_db.gold_ml_mvrh_daily AS\n",
    "  --CTE 1\n",
    "  WITH monthly_mvrh AS (\n",
    "      SELECT\n",
    "        date AS mvrh_month_date,\n",
    "        low AS mvrh_low,\n",
    "        high AS mvrh_high,\n",
    "        from_mvrh_percent\n",
    "      FROM kenworkspace.tw_stocks_db.silver_mvrh_monthly\n",
    "      WHERE mvrh = true\n",
    "  ),\n",
    "  --CTE 2\n",
    "  trade_days AS (\n",
    "    SELECT\n",
    "      date,\n",
    "      ROW_NUMBER() OVER (ORDER BY date) AS trade_day_seq\n",
    "    FROM kenworkspace.tw_stocks_db.silver_daily\n",
    "  ),\n",
    "  --CTE 3\n",
    "  mvrh_month_last_trade AS (\n",
    "    SELECT\n",
    "      DATE_TRUNC('month', date) AS mvrh_month_date,\n",
    "      MAX(date) AS last_trade_date_of_mvrh_month\n",
    "    FROM kenworkspace.tw_stocks_db.silver_daily\n",
    "    GROUP BY DATE_TRUNC('month', date)\n",
    "  ),\n",
    "  --CTE 4\n",
    "  daily_with_prev AS (\n",
    "    SELECT\n",
    "      d.date,\n",
    "      d.close,\n",
    "      d.60fhr_percent,\n",
    "      d.60flr_percent,\n",
    "      mm.from_mvrh_percent,\n",
    "      mm.mvrh_low,\n",
    "      mm.mvrh_high,\n",
    "      mm.mvrh_month_date AS last_mvrh_month_date,\n",
    "      mmlt.last_trade_date_of_mvrh_month,\n",
    "      td_d.trade_day_seq AS d_trade_seq,\n",
    "      td_m.trade_day_seq AS mvrh_trade_seq,\n",
    "      (td_d.trade_day_seq - td_m.trade_day_seq) AS days_from_mvrh\n",
    "    FROM kenworkspace.tw_stocks_db.silver_daily d\n",
    "    LEFT JOIN LATERAL (\n",
    "      SELECT *\n",
    "      FROM monthly_mvrh mm\n",
    "      WHERE mm.mvrh_month_date < DATE_TRUNC('month', d.date)\n",
    "      ORDER BY mm.mvrh_month_date DESC\n",
    "      LIMIT 1\n",
    "    ) mm\n",
    "    LEFT JOIN mvrh_month_last_trade mmlt\n",
    "      ON mmlt.mvrh_month_date = mm.mvrh_month_date\n",
    "    LEFT JOIN trade_days td_d\n",
    "      ON td_d.date = d.date\n",
    "    LEFT JOIN trade_days td_m\n",
    "      ON td_m.date = mmlt.last_trade_date_of_mvrh_month\n",
    "  ),\n",
    "  --CTE 5\n",
    "  filtered_daily AS (\n",
    "    SELECT *\n",
    "    FROM daily_with_prev\n",
    "    WHERE\n",
    "      date IS NOT NULL\n",
    "      AND close IS NOT NULL\n",
    "      AND 60fhr_percent IS NOT NULL\n",
    "      AND 60flr_percent IS NOT NULL\n",
    "      AND from_mvrh_percent IS NOT NULL\n",
    "      AND mvrh_low IS NOT NULL\n",
    "      AND mvrh_high IS NOT NULL\n",
    "      AND last_mvrh_month_date IS NOT NULL\n",
    "  )\n",
    "\n",
    "  SELECT\n",
    "    date,\n",
    "    from_mvrh_percent,\n",
    "    days_from_mvrh,\n",
    "    ROUND((close / mvrh_low - 1) * 100, 2) AS from_mvrh_low_percent,\n",
    "    ROUND((close / mvrh_high - 1) * 100, 2) AS from_mvrh_high_percent,\n",
    "    (60fhr_percent > 20 AND 60flr_percent > -10) AS 60_days_profitable\n",
    "  FROM filtered_daily\n",
    "\n"
   ]
  },
  {
   "cell_type": "code",
   "execution_count": 0,
   "metadata": {
    "application/vnd.databricks.v1+cell": {
     "cellMetadata": {
      "byteLimit": 2048000,
      "implicitDf": true,
      "rowLimit": 10000
     },
     "inputWidgets": {},
     "nuid": "e4636e17-469f-4796-97f0-92e0d9704bc9",
     "showTitle": false,
     "tableResultSettingsMap": {},
     "title": ""
    }
   },
   "outputs": [],
   "source": [
    "%sql\n",
    "use catalog `kenworkspace`; \n",
    "\n",
    "select * from `tw_stocks_db`.`gold_ml_mvrh_daily`\n",
    "where `60_days_profitable` = true"
   ]
  },
  {
   "cell_type": "code",
   "execution_count": 0,
   "metadata": {
    "application/vnd.databricks.v1+cell": {
     "cellMetadata": {
      "byteLimit": 2048000,
      "implicitDf": true,
      "rowLimit": 10000
     },
     "inputWidgets": {},
     "nuid": "53549011-6aa3-4f25-9b26-e82613ddf8f3",
     "showTitle": false,
     "tableResultSettingsMap": {},
     "title": ""
    }
   },
   "outputs": [],
   "source": [
    "%sql\n",
    "use catalog `kenworkspace`; \n",
    "\n",
    "select * from `tw_stocks_db`.`gold_ml_mvrh_daily`"
   ]
  }
 ],
 "metadata": {
  "application/vnd.databricks.v1+notebook": {
   "computePreferences": null,
   "dashboards": [],
   "environmentMetadata": {
    "base_environment": "",
    "environment_version": "2"
   },
   "inputWidgetPreferences": null,
   "language": "python",
   "notebookMetadata": {
    "mostRecentlyExecutedCommandWithImplicitDF": {
     "commandId": 5278264366625100,
     "dataframes": [
      "_sqldf"
     ]
    },
    "pythonIndentUnit": 4
   },
   "notebookName": "4.gold",
   "widgets": {}
  },
  "language_info": {
   "name": "python"
  }
 },
 "nbformat": 4,
 "nbformat_minor": 0
}
