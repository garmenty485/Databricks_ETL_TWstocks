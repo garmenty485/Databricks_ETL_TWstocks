{
 "cells": [
  {
   "cell_type": "markdown",
   "metadata": {
    "application/vnd.databricks.v1+cell": {
     "cellMetadata": {
      "byteLimit": 2048000,
      "rowLimit": 10000
     },
     "inputWidgets": {},
     "nuid": "1953cc10-51a4-454c-8f68-f8d2adc8a941",
     "showTitle": false,
     "tableResultSettingsMap": {},
     "title": ""
    }
   },
   "source": [
    "## We should watch [this YT video](https://www.youtube.com/watch?v=VkjqViooMtQ) to know how to set up the IAM and connector part to Azure."
   ]
  },
  {
   "cell_type": "markdown",
   "metadata": {
    "application/vnd.databricks.v1+cell": {
     "cellMetadata": {},
     "inputWidgets": {},
     "nuid": "2a5412d0-9de6-43a3-9129-845fe7cdb58c",
     "showTitle": false,
     "tableResultSettingsMap": {},
     "title": ""
    }
   },
   "source": [
    "## Read daily and monthly data files from Azure [Data Lake Storage] and build corresponding bronze tables for them."
   ]
  },
  {
   "cell_type": "code",
   "execution_count": 0,
   "metadata": {
    "application/vnd.databricks.v1+cell": {
     "cellMetadata": {
      "byteLimit": 2048000,
      "rowLimit": 10000
     },
     "inputWidgets": {},
     "nuid": "50c353ef-2e10-4d84-bd6b-777f5497a6d9",
     "showTitle": false,
     "tableResultSettingsMap": {},
     "title": ""
    }
   },
   "outputs": [],
   "source": [
    "from functools import reduce\n",
    "\n",
    "# configuration variables\n",
    "years = list(range(2010, 2025))\n",
    "folders = [(\"daily\", \"D\"), (\"monthly\", \"M\")]\n",
    "\n",
    "# for path to Azure Data Lake Storage Gen2\n",
    "for folder in folders:\n",
    "    file_paths = [\n",
    "        f\"abfss://twstocks@kenspractice.dfs.core.windows.net/{folder[0]}/2330_{folder[1]}_{year}.parquet\"\n",
    "        for year in years\n",
    "    ]\n",
    "\n",
    "    # read as a list of DataFrame \n",
    "    dfs = [spark.read.parquet(path) for path in file_paths]\n",
    "\n",
    "    # merge DataFrame using reduce and unionByName\n",
    "    df_combined = reduce(lambda df1, df2: df1.unionByName(df2), dfs)\n",
    "    df_combined = df_combined.orderBy(\"date\")\n",
    "\n",
    "    # df_combined.printSchema()\n",
    "    \n",
    "    # display(df_combined)\n",
    "\n",
    "    df_combined.write \\\n",
    "        .format(\"delta\") \\\n",
    "        .mode(\"overwrite\") \\\n",
    "        .saveAsTable(f\"kenworkspace.tw_stocks_db.bronze_{folder[0]}\")"
   ]
  },
  {
   "cell_type": "markdown",
   "metadata": {
    "application/vnd.databricks.v1+cell": {
     "cellMetadata": {},
     "inputWidgets": {},
     "nuid": "c843c014-d24f-4fc3-ba29-88c1bdeec9f5",
     "showTitle": false,
     "tableResultSettingsMap": {},
     "title": ""
    }
   },
   "source": [
    "## Query the table [bronze_daily]"
   ]
  },
  {
   "cell_type": "code",
   "execution_count": 0,
   "metadata": {
    "application/vnd.databricks.v1+cell": {
     "cellMetadata": {
      "byteLimit": 2048000,
      "implicitDf": true,
      "rowLimit": 10000
     },
     "inputWidgets": {},
     "nuid": "4fa526c3-f980-4e67-9e15-fae8ba14493b",
     "showTitle": false,
     "tableResultSettingsMap": {},
     "title": ""
    }
   },
   "outputs": [],
   "source": [
    "%sql\n",
    "SELECT *\n",
    "FROM kenworkspace.tw_stocks_db.bronze_daily"
   ]
  },
  {
   "cell_type": "markdown",
   "metadata": {
    "application/vnd.databricks.v1+cell": {
     "cellMetadata": {},
     "inputWidgets": {},
     "nuid": "a6bff849-4c42-4cd8-a824-8bd2bb5900ad",
     "showTitle": false,
     "tableResultSettingsMap": {},
     "title": ""
    }
   },
   "source": [
    "## Query the table [bronze_monthly]"
   ]
  },
  {
   "cell_type": "code",
   "execution_count": 0,
   "metadata": {
    "application/vnd.databricks.v1+cell": {
     "cellMetadata": {
      "byteLimit": 2048000,
      "implicitDf": true,
      "rowLimit": 10000
     },
     "inputWidgets": {},
     "nuid": "a38a4c07-ab56-4d2d-958e-365621369810",
     "showTitle": false,
     "tableResultSettingsMap": {},
     "title": ""
    }
   },
   "outputs": [],
   "source": [
    "%sql\n",
    "SELECT *\n",
    "FROM kenworkspace.tw_stocks_db.bronze_monthly"
   ]
  },
  {
   "cell_type": "code",
   "execution_count": 0,
   "metadata": {
    "application/vnd.databricks.v1+cell": {
     "cellMetadata": {},
     "inputWidgets": {},
     "nuid": "c7c4853e-e226-4d59-b0cb-339455347ad9",
     "showTitle": false,
     "tableResultSettingsMap": {},
     "title": ""
    }
   },
   "outputs": [],
   "source": []
  }
 ],
 "metadata": {
  "application/vnd.databricks.v1+notebook": {
   "computePreferences": {
    "hardware": {
     "accelerator": null,
     "gpuPoolId": null,
     "memory": null
    }
   },
   "dashboards": [],
   "environmentMetadata": {
    "base_environment": "",
    "environment_version": "2"
   },
   "inputWidgetPreferences": null,
   "language": "python",
   "notebookMetadata": {
    "mostRecentlyExecutedCommandWithImplicitDF": {
     "commandId": 7959278122817645,
     "dataframes": [
      "_sqldf"
     ]
    },
    "pythonIndentUnit": 4
   },
   "notebookName": "2.bronze",
   "widgets": {}
  },
  "language_info": {
   "name": "python"
  }
 },
 "nbformat": 4,
 "nbformat_minor": 0
}
