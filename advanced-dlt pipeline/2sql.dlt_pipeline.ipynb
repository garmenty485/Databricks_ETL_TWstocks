{
 "cells": [
  {
   "cell_type": "code",
   "execution_count": 0,
   "metadata": {
    "application/vnd.databricks.v1+cell": {
     "cellMetadata": {
      "byteLimit": 2048000,
      "implicitDf": true,
      "rowLimit": 10000
     },
     "inputWidgets": {},
     "nuid": "4d6e5f4f-9db6-4b52-ba79-080ac6f04e06",
     "showTitle": false,
     "tableResultSettingsMap": {},
     "title": ""
    }
   },
   "outputs": [],
   "source": [
    "---------\n",
    "--silver--\n",
    "----------\n",
    "\n",
    "CREATE OR REFRESH MATERIALIZED VIEW dlta_silver_mvrh_monthly AS\n",
    "  WITH base AS (\n",
    "    SELECT\n",
    "      `date`,\n",
    "      `open`,\n",
    "      `high`,\n",
    "      `low`,\n",
    "      `close`,\n",
    "      `volume`,\n",
    "      MAX(`volume`) OVER (ORDER BY `date`) AS max_volume_so_far\n",
    "    FROM dlta_bronze_monthly\n",
    "    ORDER BY `date`\n",
    "  ),\n",
    "  mvrh_flagged AS (\n",
    "    SELECT *,\n",
    "      volume = max_volume_so_far AS mvrh\n",
    "    FROM base\n",
    "  ),\n",
    "  add_previous_mvrh AS (\n",
    "    SELECT *,\n",
    "      LAG(\n",
    "        CASE WHEN mvrh THEN volume ELSE NULL END\n",
    "      ) IGNORE NULLS OVER (ORDER BY `date`) AS last_mvrh_volume\n",
    "    FROM mvrh_flagged\n",
    "  ),\n",
    "  final AS (\n",
    "    SELECT *,\n",
    "      CASE \n",
    "        WHEN last_mvrh_volume IS NOT NULL THEN \n",
    "          ROUND((volume - last_mvrh_volume) / last_mvrh_volume * 100, 2)\n",
    "        ELSE NULL \n",
    "      END AS from_mvrh_percent\n",
    "    FROM add_previous_mvrh\n",
    "  )\n",
    "  SELECT * \n",
    "  FROM final"
   ]
  },
  {
   "cell_type": "code",
   "execution_count": 0,
   "metadata": {
    "application/vnd.databricks.v1+cell": {
     "cellMetadata": {
      "byteLimit": 2048000,
      "implicitDf": true,
      "rowLimit": 10000
     },
     "inputWidgets": {},
     "nuid": "bebdea13-a086-4293-bfbf-4c5a2e2f99ac",
     "showTitle": false,
     "tableResultSettingsMap": {
      "0": {
       "dataGridStateBlob": "{\"version\":1,\"tableState\":{\"columnPinning\":{\"left\":[\"#row_number#\"],\"right\":[]},\"columnSizing\":{},\"columnVisibility\":{}},\"settings\":{\"columns\":{}},\"syncTimestamp\":1753352690584}",
       "filterBlob": null,
       "queryPlanFiltersBlob": null,
       "tableResultIndex": 0
      }
     },
     "title": ""
    }
   },
   "outputs": [],
   "source": [
    "--------\n",
    "--gold--\n",
    "--------\n",
    "\n",
    "CREATE OR REFRESH MATERIALIZED VIEW dlta_gold_ml_mvrh_daily AS\n",
    "  --CTE 1\n",
    "  WITH monthly_mvrh AS (\n",
    "      SELECT\n",
    "        date AS mvrh_month_date,\n",
    "        low AS mvrh_low,\n",
    "        high AS mvrh_high,\n",
    "        from_mvrh_percent\n",
    "      FROM dlta_silver_mvrh_monthly\n",
    "      WHERE mvrh = true\n",
    "      ORDER BY date\n",
    "  ),\n",
    "  --CTE 2\n",
    "  trade_days AS (\n",
    "    SELECT\n",
    "      date,\n",
    "      ROW_NUMBER() OVER (ORDER BY date) AS trade_day_seq\n",
    "    FROM dlta_silver_daily\n",
    "  ),\n",
    "  --CTE 3\n",
    "  mvrh_month_last_trade AS (\n",
    "    SELECT\n",
    "      DATE_TRUNC('month', date) AS mvrh_month_date,\n",
    "      MAX(date) AS last_trade_date_of_mvrh_month\n",
    "    FROM dlta_silver_daily\n",
    "    GROUP BY DATE_TRUNC('month', date)\n",
    "  ),\n",
    "  --CTE 4\n",
    "  daily_with_prev AS (\n",
    "    SELECT\n",
    "      d.date,\n",
    "      d.close,\n",
    "      d.60fhr_percent,\n",
    "      d.60flr_percent,\n",
    "      mm.from_mvrh_percent,\n",
    "      mm.mvrh_low,\n",
    "      mm.mvrh_high,\n",
    "      mm.mvrh_month_date AS last_mvrh_month_date,\n",
    "      mmlt.last_trade_date_of_mvrh_month,\n",
    "      td_d.trade_day_seq AS d_trade_seq,\n",
    "      td_m.trade_day_seq AS mvrh_trade_seq,\n",
    "      (td_d.trade_day_seq - td_m.trade_day_seq) AS days_from_mvrh\n",
    "    FROM dlta_silver_daily d\n",
    "    LEFT JOIN LATERAL (\n",
    "      SELECT *\n",
    "      FROM monthly_mvrh mm\n",
    "      WHERE mm.mvrh_month_date < DATE_TRUNC('month', d.date)\n",
    "      ORDER BY mm.mvrh_month_date DESC\n",
    "      LIMIT 1\n",
    "    ) mm\n",
    "    LEFT JOIN mvrh_month_last_trade mmlt\n",
    "      ON mmlt.mvrh_month_date = mm.mvrh_month_date\n",
    "    LEFT JOIN trade_days td_d\n",
    "      ON td_d.date = d.date\n",
    "    LEFT JOIN trade_days td_m\n",
    "      ON td_m.date = mmlt.last_trade_date_of_mvrh_month\n",
    "  ),\n",
    "  --CTE 5\n",
    "  filtered_daily AS (\n",
    "    SELECT *\n",
    "    FROM daily_with_prev\n",
    "    WHERE\n",
    "      date IS NOT NULL\n",
    "      AND close IS NOT NULL\n",
    "      AND 60fhr_percent IS NOT NULL\n",
    "      AND 60flr_percent IS NOT NULL\n",
    "      AND from_mvrh_percent IS NOT NULL\n",
    "      AND mvrh_low IS NOT NULL\n",
    "      AND mvrh_high IS NOT NULL\n",
    "      AND last_mvrh_month_date IS NOT NULL\n",
    "  )\n",
    "\n",
    "  SELECT\n",
    "    date,\n",
    "    from_mvrh_percent,\n",
    "    days_from_mvrh,\n",
    "    ROUND((close / mvrh_low - 1) * 100, 2) AS from_mvrh_low_percent,\n",
    "    ROUND((close / mvrh_high - 1) * 100, 2) AS from_mvrh_high_percent,\n",
    "    (60fhr_percent > 20 AND 60flr_percent > -10) AS 60_days_profitable\n",
    "  FROM filtered_daily"
   ]
  }
 ],
 "metadata": {
  "application/vnd.databricks.v1+notebook": {
   "computePreferences": {
    "hardware": {
     "accelerator": null,
     "gpuPoolId": null,
     "memory": null
    }
   },
   "dashboards": [],
   "environmentMetadata": {
    "base_environment": "",
    "environment_version": "2"
   },
   "inputWidgetPreferences": null,
   "language": "sql",
   "notebookMetadata": {
    "mostRecentlyExecutedCommandWithImplicitDF": {
     "commandId": 7959278122817644,
     "dataframes": [
      "_sqldf"
     ]
    },
    "pythonIndentUnit": 4
   },
   "notebookName": "2sql.dlt_pipeline",
   "widgets": {}
  },
  "language_info": {
   "name": "sql"
  }
 },
 "nbformat": 4,
 "nbformat_minor": 0
}
